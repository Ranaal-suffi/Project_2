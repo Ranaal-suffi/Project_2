{
 "cells": [
  {
   "cell_type": "markdown",
   "metadata": {},
   "source": [
    "Build a regression model."
   ]
  },
  {
   "cell_type": "code",
   "execution_count": null,
   "metadata": {},
   "outputs": [],
   "source": [
    "import statsmodels.api as sm\n",
    "#yelp_df is from the joining_data.ipynb\n",
    "\n",
    "y = yelp_df['available_bikes']\n",
    "X = yelp_df['rating']\n",
    "\n",
    "\n",
    "model = sm.OLS(y, X)\n",
    "results = model.fit()\n",
    "print(results.summary())"
   ]
  },
  {
   "cell_type": "markdown",
   "metadata": {},
   "source": [
    "Provide model output and an interpretation of the results. "
   ]
  },
  {
   "cell_type": "code",
   "execution_count": null,
   "metadata": {},
   "outputs": [],
   "source": [
    "                                 OLS Regression Results                                \n",
    "=======================================================================================\n",
    "Dep. Variable:        available_bikes   R-squared (uncentered):                   0.680\n",
    "Model:                            OLS   Adj. R-squared (uncentered):              0.680\n",
    "Method:                 Least Squares   F-statistic:                              6151.\n",
    "Date:                Sun, 30 Jul 2023   Prob (F-statistic):                        0.00\n",
    "Time:                        22:14:10   Log-Likelihood:                         -7724.7\n",
    "No. Observations:                2900   AIC:                                  1.545e+04\n",
    "Df Residuals:                    2899   BIC:                                  1.546e+04\n",
    "Df Model:                           1                                                  \n",
    "Covariance Type:            nonrobust                                                  \n",
    "==============================================================================\n",
    "                 coef    std err          t      P>|t|      [0.025      0.975]\n",
    "------------------------------------------------------------------------------\n",
    "rating         1.2258      0.016     78.429      0.000       1.195       1.256\n",
    "==============================================================================\n",
    "Omnibus:                      165.444   Durbin-Watson:                   0.130\n",
    "Prob(Omnibus):                  0.000   Jarque-Bera (JB):              190.438\n",
    "Skew:                           0.618   Prob(JB):                     4.44e-42\n",
    "Kurtosis:                       2.777   Cond. No.                         1.00\n",
    "==============================================================================\n",
    "\n",
    "Notes:\n",
    "[1] R² is computed without centering (uncentered) since the model does not contain a constant.\n",
    "[2] Standard Errors assume that the covariance matrix of the errors is correctly specified.\n",
    "\n",
    "\n",
    "\n",
    "\n",
    "\n",
    "#Interpretation: I don't think there is much significant correlation, the R^2 is pretty low"
   ]
  },
  {
   "cell_type": "markdown",
   "metadata": {},
   "source": [
    "# Stretch"
   ]
  },
  {
   "cell_type": "markdown",
   "metadata": {},
   "source": [
    "How can you turn the regression model into a classification model?"
   ]
  },
  {
   "cell_type": "code",
   "execution_count": null,
   "metadata": {},
   "outputs": [],
   "source": [
    "#With an area has high rating, it either has a higher available bikes or a lower available bikes. I think then resturants with a rating higher \n",
    "#than four would be classified as an area with a large number of available bikes and the other way around"
   ]
  }
 ],
 "metadata": {
  "kernelspec": {
   "display_name": "Python 3",
   "language": "python",
   "name": "python3"
  },
  "language_info": {
   "codemirror_mode": {
    "name": "ipython",
    "version": 3
   },
   "file_extension": ".py",
   "mimetype": "text/x-python",
   "name": "python",
   "nbconvert_exporter": "python",
   "pygments_lexer": "ipython3",
   "version": "3.8.5"
  }
 },
 "nbformat": 4,
 "nbformat_minor": 4
}
