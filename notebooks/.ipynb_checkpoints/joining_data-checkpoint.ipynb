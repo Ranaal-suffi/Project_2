{
 "cells": [
  {
   "cell_type": "markdown",
   "metadata": {},
   "source": [
    "Join the data from Part 1 with the data from Part 2 to create a new dataframe."
   ]
  },
  {
   "cell_type": "code",
   "execution_count": 2,
   "metadata": {
    "tags": []
   },
   "outputs": [
    {
     "data": {
      "text/html": [
       "<div>\n",
       "<style scoped>\n",
       "    .dataframe tbody tr th:only-of-type {\n",
       "        vertical-align: middle;\n",
       "    }\n",
       "\n",
       "    .dataframe tbody tr th {\n",
       "        vertical-align: top;\n",
       "    }\n",
       "\n",
       "    .dataframe thead th {\n",
       "        text-align: right;\n",
       "    }\n",
       "</style>\n",
       "<table border=\"1\" class=\"dataframe\">\n",
       "  <thead>\n",
       "    <tr style=\"text-align: right;\">\n",
       "      <th></th>\n",
       "      <th>name</th>\n",
       "      <th>is_closed</th>\n",
       "      <th>rating</th>\n",
       "      <th>location</th>\n",
       "      <th>address</th>\n",
       "      <th>available_bikes</th>\n",
       "      <th>free_slots</th>\n",
       "      <th>latitude</th>\n",
       "      <th>longtitude</th>\n",
       "    </tr>\n",
       "  </thead>\n",
       "  <tbody>\n",
       "    <tr>\n",
       "      <th>0</th>\n",
       "      <td>The Coop</td>\n",
       "      <td>False</td>\n",
       "      <td>4.0</td>\n",
       "      <td>Hess at king</td>\n",
       "      <td>274-274 King Street W</td>\n",
       "      <td>6</td>\n",
       "      <td>6</td>\n",
       "      <td>43.259126</td>\n",
       "      <td>-79.877212</td>\n",
       "    </tr>\n",
       "    <tr>\n",
       "      <th>1</th>\n",
       "      <td>Hambrgr</td>\n",
       "      <td>False</td>\n",
       "      <td>4.5</td>\n",
       "      <td>Hess at king</td>\n",
       "      <td>49 King William Street</td>\n",
       "      <td>6</td>\n",
       "      <td>6</td>\n",
       "      <td>43.259126</td>\n",
       "      <td>-79.877212</td>\n",
       "    </tr>\n",
       "    <tr>\n",
       "      <th>2</th>\n",
       "      <td>The Mule</td>\n",
       "      <td>False</td>\n",
       "      <td>4.0</td>\n",
       "      <td>Hess at king</td>\n",
       "      <td>41 King William Street</td>\n",
       "      <td>6</td>\n",
       "      <td>6</td>\n",
       "      <td>43.259126</td>\n",
       "      <td>-79.877212</td>\n",
       "    </tr>\n",
       "    <tr>\n",
       "      <th>3</th>\n",
       "      <td>The Ship</td>\n",
       "      <td>False</td>\n",
       "      <td>4.0</td>\n",
       "      <td>Hess at king</td>\n",
       "      <td>23 Augusta Street</td>\n",
       "      <td>6</td>\n",
       "      <td>6</td>\n",
       "      <td>43.259126</td>\n",
       "      <td>-79.877212</td>\n",
       "    </tr>\n",
       "    <tr>\n",
       "      <th>4</th>\n",
       "      <td>Earth To Table : Bread Bar</td>\n",
       "      <td>False</td>\n",
       "      <td>4.0</td>\n",
       "      <td>Hess at king</td>\n",
       "      <td>258 Locke Street S</td>\n",
       "      <td>6</td>\n",
       "      <td>6</td>\n",
       "      <td>43.259126</td>\n",
       "      <td>-79.877212</td>\n",
       "    </tr>\n",
       "  </tbody>\n",
       "</table>\n",
       "</div>"
      ],
      "text/plain": [
       "                         name  is_closed  rating      location  \\\n",
       "0                    The Coop      False     4.0  Hess at king   \n",
       "1                     Hambrgr      False     4.5  Hess at king   \n",
       "2                    The Mule      False     4.0  Hess at king   \n",
       "3                    The Ship      False     4.0  Hess at king   \n",
       "4  Earth To Table : Bread Bar      False     4.0  Hess at king   \n",
       "\n",
       "                  address  available_bikes  free_slots   latitude  longtitude  \n",
       "0   274-274 King Street W                6           6  43.259126  -79.877212  \n",
       "1  49 King William Street                6           6  43.259126  -79.877212  \n",
       "2  41 King William Street                6           6  43.259126  -79.877212  \n",
       "3       23 Augusta Street                6           6  43.259126  -79.877212  \n",
       "4      258 Locke Street S                6           6  43.259126  -79.877212  "
      ]
     },
     "execution_count": 2,
     "metadata": {},
     "output_type": "execute_result"
    }
   ],
   "source": [
    "import pandas as pd\n",
    "\n",
    "# yelp data that was saved in json file\n",
    "df_businesses= pd.read_json('df_yelp_data.json')\n",
    "# df_businesses.head() \n",
    "\n",
    "#city bike data that was saved in json file\n",
    "df_stat = pd.read_json('df_stat.json')\n",
    "#df_stat.shape[0]\n",
    "yelp_df = {'name': [], 'is_closed': [], 'rating': [], 'location': [], 'address': [], 'available_bikes': [], 'free_slots': [], 'latitude':[], 'longtitude':[]}\n",
    "\n",
    "locations = list(df_businesses.columns.values)\n",
    "\n",
    "for j, location in enumerate(locations):\n",
    "    for i, row in df_businesses[location].items():\n",
    "        yelp_df['name'].append(row['name'])\n",
    "        yelp_df['is_closed'].append(row['is_closed'])\n",
    "        yelp_df['rating'].append(row['rating'])\n",
    "        yelp_df['location'].append(location)\n",
    "        yelp_df['address'].append(row['location']['address1'])\n",
    "        yelp_df['available_bikes'].append(df_stat[df_stat['name'] == location]['free_bikes'][j])\n",
    "        yelp_df['free_slots'].append(df_stat[df_stat['name'] == location]['empty_slots'][j])\n",
    "        yelp_df['latitude'].append(df_stat[df_stat['name'] == location]['latitude'][j])\n",
    "        yelp_df['longtitude'].append(df_stat[df_stat['name'] == location]['longitude'][j])\n",
    "yelp_bikes_df = pd.DataFrame(yelp_df)\n",
    "\n",
    "yelp_bikes_df.head()"
   ]
  },
  {
   "cell_type": "markdown",
   "metadata": {},
   "source": [
    "Provide a visualization that you used as part of your EDA process. Explain the initial pattern or relationship you discoved through this visualization. "
   ]
  },
  {
   "cell_type": "code",
   "execution_count": 31,
   "metadata": {
    "tags": []
   },
   "outputs": [
    {
     "data": {
      "text/plain": [
       "(2880, 9)"
      ]
     },
     "execution_count": 31,
     "metadata": {},
     "output_type": "execute_result"
    }
   ],
   "source": [
    "yelp_bikes_df.shape"
   ]
  },
  {
   "cell_type": "code",
   "execution_count": 32,
   "metadata": {
    "tags": []
   },
   "outputs": [
    {
     "data": {
      "text/html": [
       "<div>\n",
       "<style scoped>\n",
       "    .dataframe tbody tr th:only-of-type {\n",
       "        vertical-align: middle;\n",
       "    }\n",
       "\n",
       "    .dataframe tbody tr th {\n",
       "        vertical-align: top;\n",
       "    }\n",
       "\n",
       "    .dataframe thead th {\n",
       "        text-align: right;\n",
       "    }\n",
       "</style>\n",
       "<table border=\"1\" class=\"dataframe\">\n",
       "  <thead>\n",
       "    <tr style=\"text-align: right;\">\n",
       "      <th></th>\n",
       "      <th>rating</th>\n",
       "      <th>available_bikes</th>\n",
       "      <th>free_slots</th>\n",
       "      <th>latitude</th>\n",
       "      <th>longtitude</th>\n",
       "    </tr>\n",
       "  </thead>\n",
       "  <tbody>\n",
       "    <tr>\n",
       "      <th>count</th>\n",
       "      <td>2880.000000</td>\n",
       "      <td>2880.000000</td>\n",
       "      <td>2880.000000</td>\n",
       "      <td>2880.000000</td>\n",
       "      <td>2880.000000</td>\n",
       "    </tr>\n",
       "    <tr>\n",
       "      <th>mean</th>\n",
       "      <td>4.111979</td>\n",
       "      <td>5.270833</td>\n",
       "      <td>6.895833</td>\n",
       "      <td>43.257511</td>\n",
       "      <td>-79.875806</td>\n",
       "    </tr>\n",
       "    <tr>\n",
       "      <th>std</th>\n",
       "      <td>0.329533</td>\n",
       "      <td>2.966102</td>\n",
       "      <td>5.857778</td>\n",
       "      <td>0.007374</td>\n",
       "      <td>0.032014</td>\n",
       "    </tr>\n",
       "    <tr>\n",
       "      <th>min</th>\n",
       "      <td>2.000000</td>\n",
       "      <td>0.000000</td>\n",
       "      <td>0.000000</td>\n",
       "      <td>43.242163</td>\n",
       "      <td>-79.953754</td>\n",
       "    </tr>\n",
       "    <tr>\n",
       "      <th>25%</th>\n",
       "      <td>4.000000</td>\n",
       "      <td>3.000000</td>\n",
       "      <td>3.750000</td>\n",
       "      <td>43.252041</td>\n",
       "      <td>-79.897201</td>\n",
       "    </tr>\n",
       "    <tr>\n",
       "      <th>50%</th>\n",
       "      <td>4.000000</td>\n",
       "      <td>5.000000</td>\n",
       "      <td>6.000000</td>\n",
       "      <td>43.256815</td>\n",
       "      <td>-79.870452</td>\n",
       "    </tr>\n",
       "    <tr>\n",
       "      <th>75%</th>\n",
       "      <td>4.500000</td>\n",
       "      <td>7.000000</td>\n",
       "      <td>8.000000</td>\n",
       "      <td>43.262033</td>\n",
       "      <td>-79.856056</td>\n",
       "    </tr>\n",
       "    <tr>\n",
       "      <th>max</th>\n",
       "      <td>5.000000</td>\n",
       "      <td>20.000000</td>\n",
       "      <td>34.000000</td>\n",
       "      <td>43.289479</td>\n",
       "      <td>-79.766388</td>\n",
       "    </tr>\n",
       "  </tbody>\n",
       "</table>\n",
       "</div>"
      ],
      "text/plain": [
       "            rating  available_bikes   free_slots     latitude   longtitude\n",
       "count  2880.000000      2880.000000  2880.000000  2880.000000  2880.000000\n",
       "mean      4.111979         5.270833     6.895833    43.257511   -79.875806\n",
       "std       0.329533         2.966102     5.857778     0.007374     0.032014\n",
       "min       2.000000         0.000000     0.000000    43.242163   -79.953754\n",
       "25%       4.000000         3.000000     3.750000    43.252041   -79.897201\n",
       "50%       4.000000         5.000000     6.000000    43.256815   -79.870452\n",
       "75%       4.500000         7.000000     8.000000    43.262033   -79.856056\n",
       "max       5.000000        20.000000    34.000000    43.289479   -79.766388"
      ]
     },
     "execution_count": 32,
     "metadata": {},
     "output_type": "execute_result"
    }
   ],
   "source": [
    "yelp_bikes_df.describe()"
   ]
  },
  {
   "cell_type": "code",
   "execution_count": 33,
   "metadata": {
    "tags": []
   },
   "outputs": [
    {
     "name": "stdout",
     "output_type": "stream",
     "text": [
      "2757\n"
     ]
    }
   ],
   "source": [
    "# DATACLEANING: check for duplicates for name\n",
    "nameUnique = len(set(yelp_bikes_df.name))\n",
    "nameTotal = yelp_bikes_df.shape[0]\n",
    "namedupe = nameTotal - nameUnique\n",
    "print(namedupe)"
   ]
  },
  {
   "cell_type": "code",
   "execution_count": 34,
   "metadata": {
    "tags": []
   },
   "outputs": [
    {
     "name": "stdout",
     "output_type": "stream",
     "text": [
      "2757\n"
     ]
    }
   ],
   "source": [
    "# DATACLEANING: check for duplicates for address to make sure it is not same restrant name but different location\n",
    "addressUnique = len(set(yelp_bikes_df.name))\n",
    "addressTotal = yelp_bikes_df.shape[0]\n",
    "addressdupe = addressTotal - addressUnique\n",
    "print(addressdupe)"
   ]
  },
  {
   "cell_type": "code",
   "execution_count": 35,
   "metadata": {
    "tags": []
   },
   "outputs": [
    {
     "name": "stdout",
     "output_type": "stream",
     "text": [
      "None\n"
     ]
    }
   ],
   "source": [
    "# DATACLEANING: removed duplicate address\n",
    "yelp_bikes_df.drop_duplicates(['address'],keep='first', inplace=True)"
   ]
  },
  {
   "cell_type": "code",
   "execution_count": 36,
   "metadata": {
    "tags": []
   },
   "outputs": [
    {
     "data": {
      "text/plain": [
       "count    123.000000\n",
       "mean       4.052846\n",
       "std        0.546273\n",
       "min        2.000000\n",
       "25%        4.000000\n",
       "50%        4.000000\n",
       "75%        4.500000\n",
       "max        5.000000\n",
       "Name: rating, dtype: float64"
      ]
     },
     "execution_count": 36,
     "metadata": {},
     "output_type": "execute_result"
    }
   ],
   "source": [
    "import matplotlib.pyplot as plt\n",
    "import pandas as pd\n",
    "import numpy as np\n",
    "import seaborn as sns\n",
    "\n",
    "# inspecting the first target varialble which is the rating\n",
    "yelp_bikes_df['rating'].describe()"
   ]
  },
  {
   "cell_type": "code",
   "execution_count": 37,
   "metadata": {
    "tags": []
   },
   "outputs": [
    {
     "data": {
      "image/png": "[encoded data removed]",
      "text/plain": [
       "<Figure size 640x480 with 1 Axes>"
      ]
     },
     "metadata": {},
     "output_type": "display_data"
    },
    {
     "data": {
      "text/plain": [
       "<Axes: xlabel='rating', ylabel='Count'>"
      ]
     },
     "execution_count": 37,
     "metadata": {},
     "output_type": "execute_result"
    },
    {
     "data": {
      "image/png": "[encoded data removed]",
      "text/plain": [
       "<Figure size 640x480 with 1 Axes>"
      ]
     },
     "metadata": {},
     "output_type": "display_data"
    }
   ],
   "source": [
    "sns.kdeplot(data=yelp_bikes_df, \n",
    "            x=\"rating\", \n",
    "            fill=True)\n",
    "plt.show()\n",
    "\n",
    "sns.histplot(yelp_bikes_df['rating'])"
   ]
  },
  {
   "cell_type": "code",
   "execution_count": 38,
   "metadata": {
    "tags": []
   },
   "outputs": [
    {
     "data": {
      "text/plain": [
       "count    123.000000\n",
       "mean       4.520325\n",
       "std        2.565054\n",
       "min        0.000000\n",
       "25%        3.000000\n",
       "50%        5.000000\n",
       "75%        6.000000\n",
       "max       14.000000\n",
       "Name: available_bikes, dtype: float64"
      ]
     },
     "execution_count": 38,
     "metadata": {},
     "output_type": "execute_result"
    }
   ],
   "source": [
    "#investigating another varaible which is available_bikes\n",
    "yelp_bikes_df['available_bikes'].describe()"
   ]
  },
  {
   "cell_type": "code",
   "execution_count": 39,
   "metadata": {
    "tags": []
   },
   "outputs": [
    {
     "data": {
      "image/png": "[encoded data removed]",
      "text/plain": [
       "<Figure size 640x480 with 1 Axes>"
      ]
     },
     "metadata": {},
     "output_type": "display_data"
    },
    {
     "data": {
      "text/plain": [
       "<Axes: xlabel='available_bikes', ylabel='Count'>"
      ]
     },
     "execution_count": 39,
     "metadata": {},
     "output_type": "execute_result"
    },
    {
     "data": {
      "image/png": "[encoded data removed]",
      "text/plain": [
       "<Figure size 640x480 with 1 Axes>"
      ]
     },
     "metadata": {},
     "output_type": "display_data"
    }
   ],
   "source": [
    "#visualization to the target which is available bikes\n",
    "sns.kdeplot(data=yelp_bikes_df, \n",
    "            x=\"available_bikes\", \n",
    "            fill=True)\n",
    "plt.show()\n",
    "\n",
    "sns.histplot(yelp_bikes_df['available_bikes'])"
   ]
  },
  {
   "cell_type": "code",
   "execution_count": 40,
   "metadata": {
    "tags": []
   },
   "outputs": [
    {
     "data": {
      "text/plain": [
       "<Axes: xlabel='rating', ylabel='available_bikes'>"
      ]
     },
     "execution_count": 40,
     "metadata": {},
     "output_type": "execute_result"
    },
    {
     "data": {
      "image/png": "[encoded data removed]",
      "text/plain": [
       "<Figure size 640x480 with 1 Axes>"
      ]
     },
     "metadata": {},
     "output_type": "display_data"
    }
   ],
   "source": [
    "# investigating if there is any correlation betweeen the rating as x and number of bikes_available as y\n",
    "var = 'available_bikes'\n",
    "data = yelp_bikes_df[['available_bikes','rating']]\n",
    "data.plot.scatter(x='rating', y='available_bikes', ylim=(0,15))\n",
    "\n",
    "# the result was insiginficant"
   ]
  },
  {
   "cell_type": "code",
   "execution_count": 41,
   "metadata": {
    "tags": []
   },
   "outputs": [
    {
     "data": {
      "text/plain": [
       "<Axes: xlabel='available_bikes', ylabel='rating'>"
      ]
     },
     "execution_count": 41,
     "metadata": {},
     "output_type": "execute_result"
    },
    {
     "data": {
      "image/png": "[encoded data removed]",
      "text/plain": [
       "<Figure size 640x480 with 1 Axes>"
      ]
     },
     "metadata": {},
     "output_type": "display_data"
    }
   ],
   "source": [
    "# changing the rating to y and availabel bikes to x \n",
    "var = 'available_bikes'\n",
    "data = yelp_bikes_df[['available_bikes','rating']]\n",
    "data.plot.scatter(y='rating', x='available_bikes', ylim=(0,6))\n",
    "#no correlation"
   ]
  },
  {
   "cell_type": "code",
   "execution_count": 75,
   "metadata": {
    "tags": []
   },
   "outputs": [
    {
     "name": "stderr",
     "output_type": "stream",
     "text": [
      "C:\\Users\\noora\\AppData\\Local\\Temp\\ipykernel_16116\\291780994.py:2: FutureWarning: The default value of numeric_only in DataFrame.corr is deprecated. In a future version, it will default to False. Select only valid columns or specify the value of numeric_only to silence this warning.\n",
      "  corrmat =  yelp_bikes_df.corr()\n"
     ]
    },
    {
     "data": {
      "text/plain": [
       "<Axes: >"
      ]
     },
     "execution_count": 75,
     "metadata": {},
     "output_type": "execute_result"
    },
    {
     "data": {
      "image/png": "[encoded data removed]",
      "text/plain": [
       "<Figure size 1000x900 with 2 Axes>"
      ]
     },
     "metadata": {},
     "output_type": "display_data"
    }
   ],
   "source": [
    "# correlation matrix, heat map\n",
    "corrmat =  yelp_bikes_df.corr()\n",
    "f, ax = plt.subplots(figsize=(10, 9))\n",
    "sns.heatmap(corrmat, vmax=.8, square=True,cmap=\"RdYlGn_r\")"
   ]
  },
  {
   "cell_type": "code",
   "execution_count": 42,
   "metadata": {
    "tags": []
   },
   "outputs": [
    {
     "data": {
      "text/plain": [
       "['address',\n",
       " 'available_bikes',\n",
       " 'free_slots',\n",
       " 'is_closed',\n",
       " 'latitude',\n",
       " 'location',\n",
       " 'longtitude',\n",
       " 'name',\n",
       " 'rating']"
      ]
     },
     "execution_count": 42,
     "metadata": {},
     "output_type": "execute_result"
    }
   ],
   "source": [
    "sorted(list(yelp_bikes_df.columns))"
   ]
  },
  {
   "cell_type": "code",
   "execution_count": 43,
   "metadata": {
    "tags": []
   },
   "outputs": [
    {
     "data": {
      "text/plain": [
       "(-0.5, 1.5, 0.0, 10.0)"
      ]
     },
     "execution_count": 43,
     "metadata": {},
     "output_type": "execute_result"
    },
    {
     "data": {
      "image/png": "[encoded data removed]",
      "text/plain": [
       "<Figure size 800x600 with 1 Axes>"
      ]
     },
     "metadata": {},
     "output_type": "display_data"
    }
   ],
   "source": [
    "#Categorical Variables\n",
    "var = 'is_closed'\n",
    "data = yelp_bikes_df[['available_bikes',var]]\n",
    "f, ax = plt.subplots(figsize=(8, 6))\n",
    "fig = sns.boxplot(x=var, y=\"available_bikes\", data=data)\n",
    "fig.axis(ymin=0, ymax=10)\n",
    "# from the result all the resturant seem open"
   ]
  },
  {
   "cell_type": "code",
   "execution_count": 44,
   "metadata": {
    "tags": []
   },
   "outputs": [
    {
     "data": {
      "text/html": [
       "<div>\n",
       "<style scoped>\n",
       "    .dataframe tbody tr th:only-of-type {\n",
       "        vertical-align: middle;\n",
       "    }\n",
       "\n",
       "    .dataframe tbody tr th {\n",
       "        vertical-align: top;\n",
       "    }\n",
       "\n",
       "    .dataframe thead th {\n",
       "        text-align: right;\n",
       "    }\n",
       "</style>\n",
       "<table border=\"1\" class=\"dataframe\">\n",
       "  <thead>\n",
       "    <tr style=\"text-align: right;\">\n",
       "      <th></th>\n",
       "      <th>location</th>\n",
       "      <th>avg_rating</th>\n",
       "      <th>aval_bikes</th>\n",
       "    </tr>\n",
       "  </thead>\n",
       "  <tbody>\n",
       "    <tr>\n",
       "      <th>0</th>\n",
       "      <td>Hess at king</td>\n",
       "      <td>4.125</td>\n",
       "      <td>6</td>\n",
       "    </tr>\n",
       "    <tr>\n",
       "      <th>1</th>\n",
       "      <td>Bayfront Park</td>\n",
       "      <td>4.000</td>\n",
       "      <td>6</td>\n",
       "    </tr>\n",
       "    <tr>\n",
       "      <th>2</th>\n",
       "      <td>Bay at Strachan</td>\n",
       "      <td>4.500</td>\n",
       "      <td>5</td>\n",
       "    </tr>\n",
       "    <tr>\n",
       "      <th>3</th>\n",
       "      <td>Bay at Mulberry</td>\n",
       "      <td>4.000</td>\n",
       "      <td>8</td>\n",
       "    </tr>\n",
       "    <tr>\n",
       "      <th>4</th>\n",
       "      <td>City Hall</td>\n",
       "      <td>4.500</td>\n",
       "      <td>7</td>\n",
       "    </tr>\n",
       "  </tbody>\n",
       "</table>\n",
       "</div>"
      ],
      "text/plain": [
       "          location  avg_rating  aval_bikes\n",
       "0     Hess at king       4.125           6\n",
       "1    Bayfront Park       4.000           6\n",
       "2  Bay at Strachan       4.500           5\n",
       "3  Bay at Mulberry       4.000           8\n",
       "4        City Hall       4.500           7"
      ]
     },
     "execution_count": 44,
     "metadata": {},
     "output_type": "execute_result"
    }
   ],
   "source": [
    "# creating a new table using the avarage for resturant rating as well as the number of available bikes trying to look for any relationship between these ratings and available bikes.\n",
    "correlation_df = {'location': [], 'avg_rating': [], 'aval_bikes': []}\n",
    "for i, loc in enumerate(locations):\n",
    "    current_df = yelp_bikes_df[yelp_bikes_df['location'] == loc]\n",
    "    if len(current_df['available_bikes']) == 0:\n",
    "        continue\n",
    "    correlation_df['avg_rating'].append(current_df['rating'].mean(axis=0))\n",
    "    correlation_df['aval_bikes'].append(current_df['available_bikes'].iloc[0])\n",
    "    correlation_df['location'].append(loc)\n",
    "    \n",
    "correlation_df = pd.DataFrame(correlation_df)\n",
    "correlation_df.head()"
   ]
  },
  {
   "cell_type": "code",
   "execution_count": 45,
   "metadata": {},
   "outputs": [
    {
     "data": {
      "text/html": [
       "<div>\n",
       "<style scoped>\n",
       "    .dataframe tbody tr th:only-of-type {\n",
       "        vertical-align: middle;\n",
       "    }\n",
       "\n",
       "    .dataframe tbody tr th {\n",
       "        vertical-align: top;\n",
       "    }\n",
       "\n",
       "    .dataframe thead th {\n",
       "        text-align: right;\n",
       "    }\n",
       "</style>\n",
       "<table border=\"1\" class=\"dataframe\">\n",
       "  <thead>\n",
       "    <tr style=\"text-align: right;\">\n",
       "      <th></th>\n",
       "      <th>avg_rating</th>\n",
       "      <th>aval_bikes</th>\n",
       "    </tr>\n",
       "  </thead>\n",
       "  <tbody>\n",
       "    <tr>\n",
       "      <th>count</th>\n",
       "      <td>47.000000</td>\n",
       "      <td>47.000000</td>\n",
       "    </tr>\n",
       "    <tr>\n",
       "      <th>mean</th>\n",
       "      <td>4.031666</td>\n",
       "      <td>4.957447</td>\n",
       "    </tr>\n",
       "    <tr>\n",
       "      <th>std</th>\n",
       "      <td>0.485502</td>\n",
       "      <td>2.686176</td>\n",
       "    </tr>\n",
       "    <tr>\n",
       "      <th>min</th>\n",
       "      <td>2.500000</td>\n",
       "      <td>0.000000</td>\n",
       "    </tr>\n",
       "    <tr>\n",
       "      <th>25%</th>\n",
       "      <td>4.000000</td>\n",
       "      <td>3.000000</td>\n",
       "    </tr>\n",
       "    <tr>\n",
       "      <th>50%</th>\n",
       "      <td>4.000000</td>\n",
       "      <td>5.000000</td>\n",
       "    </tr>\n",
       "    <tr>\n",
       "      <th>75%</th>\n",
       "      <td>4.464286</td>\n",
       "      <td>7.000000</td>\n",
       "    </tr>\n",
       "    <tr>\n",
       "      <th>max</th>\n",
       "      <td>5.000000</td>\n",
       "      <td>14.000000</td>\n",
       "    </tr>\n",
       "  </tbody>\n",
       "</table>\n",
       "</div>"
      ],
      "text/plain": [
       "       avg_rating  aval_bikes\n",
       "count   47.000000   47.000000\n",
       "mean     4.031666    4.957447\n",
       "std      0.485502    2.686176\n",
       "min      2.500000    0.000000\n",
       "25%      4.000000    3.000000\n",
       "50%      4.000000    5.000000\n",
       "75%      4.464286    7.000000\n",
       "max      5.000000   14.000000"
      ]
     },
     "execution_count": 45,
     "metadata": {},
     "output_type": "execute_result"
    }
   ],
   "source": [
    "correlation_df.describe()"
   ]
  },
  {
   "cell_type": "code",
   "execution_count": 46,
   "metadata": {
    "tags": []
   },
   "outputs": [
    {
     "data": {
      "image/png": "[encoded data removed]",
      "text/plain": [
       "<Figure size 640x480 with 1 Axes>"
      ]
     },
     "metadata": {},
     "output_type": "display_data"
    }
   ],
   "source": [
    "#testing the relationship between avg_rating and aval_bikes\n",
    "import matplotlib.pyplot as plt\n",
    "fig, ax = plt.subplots()\n",
    "rating_v_avail = correlation_df.filter(items=['avg_rating', 'aval_bikes'])\n",
    "\n",
    "plt.plot(correlation_df['avg_rating'], correlation_df['aval_bikes'], 'o')\n",
    "plt.show()\n",
    "\n",
    "#however no relationship was found again"
   ]
  },
  {
   "cell_type": "markdown",
   "metadata": {},
   "source": [
    "# Database"
   ]
  },
  {
   "cell_type": "markdown",
   "metadata": {},
   "source": [
    "Put all your results in an SQLite3 database (remember, SQLite stores its databases as files in your local machine - make sure to create your database in your project's data/ directory!)"
   ]
  },
  {
   "cell_type": "code",
   "execution_count": 47,
   "metadata": {},
   "outputs": [
    {
     "name": "stdout",
     "output_type": "stream",
     "text": [
      "Connection to SQLite DB successful\n"
     ]
    },
    {
     "data": {
      "text/plain": [
       "144"
      ]
     },
     "execution_count": 47,
     "metadata": {},
     "output_type": "execute_result"
    }
   ],
   "source": [
    "#NOTE: yelp_df came from yelp_foursquare_EDA and df_stat came from city_bikes.ipynb\n",
    "\n",
    "import sqlite3\n",
    "from sqlite3 import Error\n",
    "import pandas as pd\n",
    "\n",
    "def create_connection(path):\n",
    "    connection = None\n",
    "    try:\n",
    "        connection = sqlite3.connect(path)\n",
    "        print(\"Connection to SQLite DB successful\")\n",
    "    except Error as e:\n",
    "        print(f\"The error '{e}' occurred\")\n",
    "\n",
    "    return connection\n",
    "connection = create_connection(\"project_2_1.sqlite\")\n",
    "\n",
    "yelp_bikes_df.to_sql('yelp_bikes_df', connection, if_exists='replace')\n",
    "\n",
    "for column in list(df_businesses):\n",
    "    df_businesses[column] = df_businesses[column].astype('str')\n",
    "\n",
    "for column in df_stat.columns.values.tolist():\n",
    "    df_stat[column] = df_stat[column].astype('str')\n",
    "    \n",
    "df_businesses.to_sql('df_businesses', connection, if_exists='replace')\n",
    "df_stat.to_sql('city_bikes', connection, if_exists='replace')"
   ]
  },
  {
   "cell_type": "markdown",
   "metadata": {},
   "source": [
    "Look at the data before and after the join to validate your data."
   ]
  },
  {
   "cell_type": "code",
   "execution_count": 4,
   "metadata": {
    "tags": []
   },
   "outputs": [
    {
     "data": {
      "text/plain": [
       "144"
      ]
     },
     "execution_count": 4,
     "metadata": {},
     "output_type": "execute_result"
    }
   ],
   "source": [
    "#trying to verfy that the number of bike station is match by location\n",
    "#city bikes data\n",
    "df_stat = pd.read_json('df_stat.json')\n",
    "df_stat['name'].nunique()"
   ]
  },
  {
   "cell_type": "code",
   "execution_count": 5,
   "metadata": {
    "tags": []
   },
   "outputs": [
    {
     "data": {
      "text/plain": [
       "Index(['Hess at king', 'Bayfront Park', 'Bay at Strachan', 'Bay at Mulberry',\n",
       "       'City Hall', 'Bay at Bold', 'James S at Charlton', 'Oxford at York',\n",
       "       'Queen at Peter', 'West at Cannon',\n",
       "       ...\n",
       "       'James at Guise', 'RBG Rock Garden', 'Pier 8',\n",
       "       'Westinghouse at Barton - ERI13', 'James at Colbourne',\n",
       "       'Main at Longwood', 'Van Wagner's Beach', 'King William at James',\n",
       "       'Westdale Village - Paisley', 'Westdale Aviary'],\n",
       "      dtype='object', length=144)"
      ]
     },
     "execution_count": 5,
     "metadata": {},
     "output_type": "execute_result"
    }
   ],
   "source": [
    "#yelp data\n",
    "df_yelp_data=pd.read_json('df_yelp_data.json')\n",
    "# number of columns for this data is the number of bike locations, which it shows as a length\n",
    "df_yelp_data.columns"
   ]
  },
  {
   "cell_type": "code",
   "execution_count": 6,
   "metadata": {
    "tags": []
   },
   "outputs": [
    {
     "data": {
      "text/plain": [
       "144"
      ]
     },
     "execution_count": 6,
     "metadata": {},
     "output_type": "execute_result"
    }
   ],
   "source": [
    "#the joind table data\n",
    "yelp_bikes_df= pd.read_json('yelp_bikes_df.json')\n",
    "yelp_bikes_df['location'].nunique()"
   ]
  },
  {
   "cell_type": "code",
   "execution_count": 7,
   "metadata": {
    "tags": []
   },
   "outputs": [
    {
     "data": {
      "text/plain": [
       "41"
      ]
     },
     "execution_count": 7,
     "metadata": {},
     "output_type": "execute_result"
    }
   ],
   "source": [
    "# I searched for locations that has 6 bikes available, first with city_bike table and the other with yelp_bikes_df, \n",
    "# both result were the same which indicate that the datat was tranfered correctly\n",
    "df_stat[df_stat['free_bikes'] > 6 ].name.nunique()"
   ]
  },
  {
   "cell_type": "code",
   "execution_count": 8,
   "metadata": {
    "tags": []
   },
   "outputs": [
    {
     "data": {
      "text/plain": [
       "41"
      ]
     },
     "execution_count": 8,
     "metadata": {},
     "output_type": "execute_result"
    }
   ],
   "source": [
    "yelp_bikes_df[yelp_bikes_df['available_bikes']> 6 ].location.nunique()"
   ]
  },
  {
   "cell_type": "code",
   "execution_count": 11,
   "metadata": {
    "tags": []
   },
   "outputs": [
    {
     "name": "stdout",
     "output_type": "stream",
     "text": [
      "2632\n"
     ]
    }
   ],
   "source": [
    "j = 0\n",
    "\n",
    "for location in list(df_yelp_data):\n",
    "    for row in df_yelp_data[location]:\n",
    "        if row['rating'] >= 4:\n",
    "            j += 1\n",
    "\n",
    "print(j)\n",
    "            \n",
    "# df_yelp_data.head()"
   ]
  },
  {
   "cell_type": "code",
   "execution_count": 109,
   "metadata": {
    "tags": []
   },
   "outputs": [
    {
     "data": {
      "text/plain": [
       "2632"
      ]
     },
     "execution_count": 109,
     "metadata": {},
     "output_type": "execute_result"
    }
   ],
   "source": [
    "len(yelp_bikes_df[yelp_bikes_df['rating']>=4])"
   ]
  },
  {
   "cell_type": "markdown",
   "metadata": {},
   "source": [
    "I compared the yelp data before merging and confirmed that the number of ratings >= 4 was 2632 before and after merging"
   ]
  }
 ],
 "metadata": {
  "kernelspec": {
   "display_name": "Python 3 (ipykernel)",
   "language": "python",
   "name": "python3"
  },
  "language_info": {
   "codemirror_mode": {
    "name": "ipython",
    "version": 3
   },
   "file_extension": ".py",
   "mimetype": "text/x-python",
   "name": "python",
   "nbconvert_exporter": "python",
   "pygments_lexer": "ipython3",
   "version": "3.11.3"
  }
 },
 "nbformat": 4,
 "nbformat_minor": 4
}
