{
 "cells": [
  {
   "cell_type": "markdown",
   "metadata": {},
   "source": [
    "Join the data from Part 1 with the data from Part 2 to create a new dataframe."
   ]
  },
  {
   "cell_type": "code",
   "execution_count": null,
   "metadata": {},
   "outputs": [],
   "source": [
    "#read yelp_foursquare_EDA.ipynb for how df_businesses and df_stat came about and city_bikes.ipynb\n",
    "\n",
    "import pandas as pd\n",
    "\n",
    "yelp_df = {'name': [], 'is_closed': [], 'rating': [], 'location': [], 'address': [], 'available_bikes': [], 'free_slots': [], 'latitude':[], 'longtitude':[]}\n",
    "\n",
    "locations = list(df_businesses.columns.values)\n",
    "\n",
    "for j, location in enumerate(locations):\n",
    "    for i, row in df_businesses[location].items():\n",
    "        yelp_df['name'].append(row['name'])\n",
    "        yelp_df['is_closed'].append(row['is_closed'])\n",
    "        yelp_df['rating'].append(row['rating'])\n",
    "        yelp_df['location'].append(location)\n",
    "        yelp_df['address'].append(row['location']['address1'])\n",
    "        yelp_df['available_bikes'].append(df_stat[df_stat['name'] == location]['free_bikes'][j])\n",
    "        yelp_df['free_slots'].append(df_stat[df_stat['name'] == location]['empty_slots'][j])\n",
    "        yelp_df['latitude'].append(df_stat[df_stat['name'] == location]['latitude'][j])\n",
    "        yelp_df['longtitude'].append(df_stat[df_stat['name'] == location]['longitude'][j])\n",
    "yelp_bikes_df = pd.DataFrame(yelp_df)"
   ]
  },
  {
   "cell_type": "markdown",
   "metadata": {},
   "source": [
    "Provide a visualization that you used as part of your EDA process. Explain the initial pattern or relationship you discoved through this visualization. "
   ]
  },
  {
   "cell_type": "code",
   "execution_count": null,
   "metadata": {},
   "outputs": [],
   "source": [
    "import  sns\n",
    "import matplotlib.pyplot as plt\n",
    "\n",
    "sns.kdeplot(data=yelp_df, \n",
    "            x=\"rating\", \n",
    "            fill=True)\n",
    "plt.show()\n",
    "\n",
    "#I noticed that a rating of 4.0 was the most likely rating to occur across all places"
   ]
  },
  {
   "cell_type": "markdown",
   "metadata": {},
   "source": [
    "# Database"
   ]
  },
  {
   "cell_type": "markdown",
   "metadata": {},
   "source": [
    "Put all your results in an SQLite3 database (remember, SQLite stores its databases as files in your local machine - make sure to create your database in your project's data/ directory!)"
   ]
  },
  {
   "cell_type": "code",
   "execution_count": null,
   "metadata": {},
   "outputs": [],
   "source": [
    "#NOTE: yelp_df came from yelp_foursquare_EDA and df_stat came from city_bikes.ipynb\n",
    "\n",
    "import sqlite3\n",
    "from sqlite3 import Error\n",
    "import pandas as pd\n",
    "\n",
    "def create_connection(path):\n",
    "    connection = None\n",
    "    try:\n",
    "        connection = sqlite3.connect(path)\n",
    "        print(\"Connection to SQLite DB successful\")\n",
    "    except Error as e:\n",
    "        print(f\"The error '{e}' occurred\")\n",
    "\n",
    "    return connection\n",
    "connection = create_connection(\"project_2.sqlite\")\n",
    "\n",
    "yelp_bikes_df.to_sql('yelp_bikes', connection)\n",
    "yelp_df.to_sql('yelp', connection)\n",
    "df_stat.to_sql('city_bikes', connection)"
   ]
  },
  {
   "cell_type": "markdown",
   "metadata": {},
   "source": [
    "Look at the data before and after the join to validate your data."
   ]
  },
  {
   "cell_type": "code",
   "execution_count": null,
   "metadata": {},
   "outputs": [],
   "source": [
    "#I wasn't sure exactly what to do, so I just visually confirmed through vscode that the data remained unchanged"
   ]
  }
 ],
 "metadata": {
  "kernelspec": {
   "display_name": "Python 3",
   "language": "python",
   "name": "python3"
  },
  "language_info": {
   "codemirror_mode": {
    "name": "ipython",
    "version": 3
   },
   "file_extension": ".py",
   "mimetype": "text/x-python",
   "name": "python",
   "nbconvert_exporter": "python",
   "pygments_lexer": "ipython3",
   "version": "3.8.5"
  }
 },
 "nbformat": 4,
 "nbformat_minor": 4
}
